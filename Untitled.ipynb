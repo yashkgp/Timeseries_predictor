{
 "cells": [
  {
   "cell_type": "code",
   "execution_count": 1,
   "metadata": {},
   "outputs": [
    {
     "ename": "TypeError",
     "evalue": "'tuple' object is not callable",
     "output_type": "error",
     "traceback": [
      "\u001b[0;31m---------------------------------------------------------------------------\u001b[0m",
      "\u001b[0;31mTypeError\u001b[0m                                 Traceback (most recent call last)",
      "\u001b[0;32m<ipython-input-1-09f55e9baee7>\u001b[0m in \u001b[0;36m<module>\u001b[0;34m()\u001b[0m\n\u001b[1;32m      3\u001b[0m \u001b[0;34m\u001b[0m\u001b[0m\n\u001b[1;32m      4\u001b[0m \u001b[0msbin_data\u001b[0m \u001b[0;34m=\u001b[0m \u001b[0mget_history\u001b[0m\u001b[0;34m(\u001b[0m\u001b[0msymbol\u001b[0m\u001b[0;34m=\u001b[0m\u001b[0;34m'SBIN'\u001b[0m\u001b[0;34m,\u001b[0m\u001b[0mstart\u001b[0m\u001b[0;34m=\u001b[0m\u001b[0mdate\u001b[0m\u001b[0;34m.\u001b[0m\u001b[0mtoday\u001b[0m\u001b[0;34m(\u001b[0m\u001b[0;34m)\u001b[0m\u001b[0;34m-\u001b[0m\u001b[0mtimedelta\u001b[0m\u001b[0;34m(\u001b[0m\u001b[0mdays\u001b[0m\u001b[0;34m=\u001b[0m\u001b[0;36m1000\u001b[0m\u001b[0;34m)\u001b[0m\u001b[0;34m,\u001b[0m\u001b[0mend\u001b[0m\u001b[0;34m=\u001b[0m\u001b[0mdate\u001b[0m\u001b[0;34m.\u001b[0m\u001b[0mtoday\u001b[0m\u001b[0;34m(\u001b[0m\u001b[0;34m)\u001b[0m\u001b[0;34m)\u001b[0m\u001b[0;34m\u001b[0m\u001b[0m\n\u001b[0;32m----> 5\u001b[0;31m \u001b[0mprint\u001b[0m \u001b[0;34m(\u001b[0m\u001b[0msbin_data\u001b[0m\u001b[0;34m[\u001b[0m\u001b[0;34m'High'\u001b[0m\u001b[0;34m]\u001b[0m\u001b[0;34m.\u001b[0m\u001b[0mshape\u001b[0m\u001b[0;34m(\u001b[0m\u001b[0;34m)\u001b[0m\u001b[0;34m)\u001b[0m\u001b[0;34m\u001b[0m\u001b[0m\n\u001b[0m\u001b[1;32m      6\u001b[0m \u001b[0;34m\u001b[0m\u001b[0m\n",
      "\u001b[0;31mTypeError\u001b[0m: 'tuple' object is not callable"
     ]
    }
   ],
   "source": [
    "from nsepy import get_history\n",
    "from datetime import date, timedelta\n",
    "\n",
    "sbin_data = get_history(symbol='SBIN',start=date.today()-timedelta(days=1000),end=date.today())\n",
    "print (sbin_data['High'].shape())\n",
    "\n"
   ]
  },
  {
   "cell_type": "code",
   "execution_count": 2,
   "metadata": {},
   "outputs": [
    {
     "name": "stdout",
     "output_type": "stream",
     "text": [
      "           Symbol Series  Prev Close    Open    High     Low    Last   Close  \\\n",
      "Date                                                                           \n",
      "2015-09-15   SBIN     EQ      235.25  235.20  238.45  232.65  232.90  234.00   \n",
      "2015-09-16   SBIN     EQ      234.00  236.40  237.75  235.00  236.85  236.80   \n",
      "2015-09-18   SBIN     EQ      236.80  240.00  246.45  239.50  240.70  242.00   \n",
      "2015-09-21   SBIN     EQ      242.00  239.55  246.00  237.25  245.75  245.25   \n",
      "2015-09-22   SBIN     EQ      245.25  247.95  248.45  236.25  237.60  237.95   \n",
      "2015-09-23   SBIN     EQ      237.95  235.00  241.90  233.60  240.35  239.85   \n",
      "2015-09-24   SBIN     EQ      239.85  239.45  241.45  238.05  239.45  239.05   \n",
      "2015-09-28   SBIN     EQ      239.05  241.00  243.65  238.65  240.90  239.45   \n",
      "2015-09-29   SBIN     EQ      239.45  236.00  245.40  232.20  241.60  241.90   \n",
      "2015-09-30   SBIN     EQ      241.90  244.85  245.40  235.70  237.95  237.15   \n",
      "2015-10-01   SBIN     EQ      237.15  241.20  241.90  234.40  235.50  235.15   \n",
      "2015-10-05   SBIN     EQ      235.15  238.10  241.35  237.25  241.20  240.00   \n",
      "2015-10-06   SBIN     EQ      240.00  242.70  242.80  237.70  239.95  240.10   \n",
      "2015-10-07   SBIN     EQ      240.10  240.15  244.25  239.05  243.65  243.55   \n",
      "2015-10-08   SBIN     EQ      243.55  242.45  245.20  241.10  243.50  243.30   \n",
      "2015-10-09   SBIN     EQ      243.30  245.50  247.80  240.65  242.90  243.45   \n",
      "2015-10-12   SBIN     EQ      243.45  244.10  245.65  241.30  244.15  244.55   \n",
      "2015-10-13   SBIN     EQ      244.55  244.00  247.50  242.05  243.90  243.80   \n",
      "2015-10-14   SBIN     EQ      243.80  243.70  246.80  243.20  245.00  244.25   \n",
      "2015-10-15   SBIN     EQ      244.25  246.00  249.90  245.50  249.05  248.95   \n",
      "2015-10-16   SBIN     EQ      248.95  249.85  257.15  248.35  256.80  254.85   \n",
      "2015-10-19   SBIN     EQ      254.85  256.65  257.10  253.50  254.05  254.50   \n",
      "2015-10-20   SBIN     EQ      254.50  254.50  257.10  253.20  254.80  254.85   \n",
      "2015-10-21   SBIN     EQ      254.85  254.00  255.90  248.55  249.40  249.80   \n",
      "2015-10-23   SBIN     EQ      249.80  253.00  254.85  252.00  253.15  253.40   \n",
      "2015-10-26   SBIN     EQ      253.40  254.75  256.00  250.35  251.40  251.25   \n",
      "2015-10-27   SBIN     EQ      251.25  250.10  252.20  248.10  248.40  248.80   \n",
      "2015-10-28   SBIN     EQ      248.80  248.00  249.45  241.20  241.70  242.05   \n",
      "2015-10-29   SBIN     EQ      242.05  241.50  241.80  236.45  237.00  236.95   \n",
      "2015-10-30   SBIN     EQ      236.95  238.70  240.40  235.10  237.25  237.05   \n",
      "...           ...    ...         ...     ...     ...     ...     ...     ...   \n",
      "2018-04-27   SBIN     EQ      233.20  233.25  245.80  233.25  243.20  242.60   \n",
      "2018-04-30   SBIN     EQ      242.60  244.80  249.70  244.50  246.05  246.40   \n",
      "2018-05-02   SBIN     EQ      246.40  245.90  246.30  239.75  241.20  241.00   \n",
      "2018-05-03   SBIN     EQ      241.00  240.95  243.40  238.75  241.60  241.90   \n",
      "2018-05-04   SBIN     EQ      241.90  243.50  243.90  240.35  241.75  241.95   \n",
      "2018-05-07   SBIN     EQ      241.95  242.45  248.20  242.05  247.20  246.50   \n",
      "2018-05-08   SBIN     EQ      246.50  248.00  252.60  244.60  250.30  250.05   \n",
      "2018-05-09   SBIN     EQ      250.05  249.80  249.80  246.30  248.10  248.00   \n",
      "2018-05-10   SBIN     EQ      248.00  248.25  250.20  246.30  247.10  247.95   \n",
      "2018-05-11   SBIN     EQ      247.95  247.60  251.60  246.05  250.80  250.35   \n",
      "2018-05-14   SBIN     EQ      250.35  249.95  255.80  248.15  252.40  253.60   \n",
      "2018-05-15   SBIN     EQ      253.60  253.00  257.45  245.90  246.55  248.00   \n",
      "2018-05-16   SBIN     EQ      248.00  245.50  248.70  240.60  242.90  243.10   \n",
      "2018-05-17   SBIN     EQ      243.10  244.20  246.00  241.15  242.55  242.70   \n",
      "2018-05-18   SBIN     EQ      242.70  243.00  244.00  237.85  239.60  238.85   \n",
      "2018-05-21   SBIN     EQ      238.85  243.55  245.75  240.30  244.50  244.45   \n",
      "2018-05-22   SBIN     EQ      244.45  243.65  259.70  241.00  255.70  253.90   \n",
      "2018-05-23   SBIN     EQ      253.90  254.65  269.75  254.30  263.45  263.20   \n",
      "2018-05-24   SBIN     EQ      263.20  263.85  269.70  260.65  268.80  268.50   \n",
      "2018-05-25   SBIN     EQ      268.50  267.80  268.40  262.55  267.00  266.95   \n",
      "2018-05-28   SBIN     EQ      266.95  267.40  274.20  266.05  271.95  272.05   \n",
      "2018-05-29   SBIN     EQ      272.05  270.50  270.95  262.80  263.65  264.30   \n",
      "2018-05-30   SBIN     EQ      264.30  260.50  268.00  259.95  266.95  267.15   \n",
      "2018-05-31   SBIN     EQ      267.15  266.85  274.80  263.15  270.00  269.55   \n",
      "2018-06-01   SBIN     EQ      269.55  269.25  269.80  264.60  267.00  266.70   \n",
      "2018-06-04   SBIN     EQ      266.70  268.00  268.35  261.30  263.20  263.00   \n",
      "2018-06-05   SBIN     EQ      263.00  260.90  265.25  260.90  263.25  263.55   \n",
      "2018-06-06   SBIN     EQ      263.55  263.00  271.40  262.20  270.25  270.15   \n",
      "2018-06-07   SBIN     EQ      270.15  271.05  272.90  268.40  269.55  269.65   \n",
      "2018-06-08   SBIN     EQ      269.65  268.95  273.90  267.00  273.00  273.00   \n",
      "\n",
      "              VWAP    Volume      Turnover  Trades  Deliverable Volume  \\\n",
      "Date                                                                     \n",
      "2015-09-15  235.23  13193410  3.103448e+14  112433             3992450   \n",
      "2015-09-16  236.38  11272509  2.664600e+14   70760             4297330   \n",
      "2015-09-18  243.58  16049395  3.909275e+14  132524             4918010   \n",
      "2015-09-21  242.60   9602436  2.329534e+14   84490             1672108   \n",
      "2015-09-22  242.99  13667322  3.321055e+14  110945             4297437   \n",
      "2015-09-23  238.33  13614082  3.244639e+14  102490             3671583   \n",
      "2015-09-24  239.63   9299508  2.228435e+14   72488             2420938   \n",
      "2015-09-28  241.43   8588230  2.073482e+14   70451             1825740   \n",
      "2015-09-29  240.62  24488685  5.892391e+14  173990             5403503   \n",
      "2015-09-30  239.27  17011911  4.070515e+14  129082             5875189   \n",
      "2015-10-01  237.28  11590498  2.750146e+14   79332             3360918   \n",
      "2015-10-05  239.63  18307463  4.387086e+14   76607            10157446   \n",
      "2015-10-06  240.17  10087077  2.422566e+14   73164             2893203   \n",
      "2015-10-07  242.42  10608795  2.571813e+14   78909             2611552   \n",
      "2015-10-08  243.17   9230511  2.244607e+14   76269             2343586   \n",
      "2015-10-09  244.94  12171416  2.981320e+14  105441             4413072   \n",
      "2015-10-12  244.27   7566962  1.848345e+14   57702             2819307   \n",
      "2015-10-13  244.56  10200698  2.494712e+14   73013             4105359   \n",
      "2015-10-14  244.82   7895820  1.933056e+14   55278             3212893   \n",
      "2015-10-15  248.42  11582401  2.877244e+14   86325             3894772   \n",
      "2015-10-16  251.84  11738832  2.956325e+14   84407             3725598   \n",
      "2015-10-19  255.14   8969153  2.288375e+14   60162             3568861   \n",
      "2015-10-20  255.05   8811740  2.247392e+14   58553             3517593   \n",
      "2015-10-21  251.41   8606466  2.163720e+14   58318             2410439   \n",
      "2015-10-23  253.43   7544810  1.912097e+14   77411             2907459   \n",
      "2015-10-26  253.24  13085058  3.313622e+14   82870             5753097   \n",
      "2015-10-27  250.09   6565348  1.641912e+14   59563             2711105   \n",
      "2015-10-28  243.96  12310403  3.003224e+14   92805             5871480   \n",
      "2015-10-29  238.58  16114932  3.844694e+14   92417             7947307   \n",
      "2015-10-30  237.93   8669606  2.062775e+14   74888             3122553   \n",
      "...            ...       ...           ...     ...                 ...   \n",
      "2018-04-27  242.46  31401889  7.613775e+14  203123             9874140   \n",
      "2018-04-30  247.11  17263193  4.265823e+14  102753             2700671   \n",
      "2018-05-02  242.08  12887066  3.119704e+14   96574             4227660   \n",
      "2018-05-03  241.21  12939642  3.121137e+14   82594             2019303   \n",
      "2018-05-04  242.15  12777310  3.094083e+14   69129             3625601   \n",
      "2018-05-07  245.59  15122614  3.713935e+14   93517             4383629   \n",
      "2018-05-08  249.25  23293920  5.806001e+14  138529             7027660   \n",
      "2018-05-09  247.83  11429823  2.832630e+14   66742             2768055   \n",
      "2018-05-10  247.98  13160967  3.263722e+14   72818             3796691   \n",
      "2018-05-11  248.66  11958589  2.973625e+14   64606             3453778   \n",
      "2018-05-14  253.57  18673849  4.735132e+14   97405             6744179   \n",
      "2018-05-15  252.61  18026861  4.553828e+14  114730             4624572   \n",
      "2018-05-16  244.20  17222004  4.205592e+14  103543             3022936   \n",
      "2018-05-17  244.10  11721064  2.861108e+14   73063             2745560   \n",
      "2018-05-18  240.29  11873041  2.852924e+14  110146             3511677   \n",
      "2018-05-21  243.18  18780730  4.567026e+14  112369             3998617   \n",
      "2018-05-22  250.57  68713602  1.721775e+15  363023            14085733   \n",
      "2018-05-23  265.25  71202072  1.888629e+15  422897            19887271   \n",
      "2018-05-24  266.17  34679642  9.230556e+14  184520             9303234   \n",
      "2018-05-25  265.26  22317308  5.919849e+14  135789             5234947   \n",
      "2018-05-28  270.84  18959368  5.134880e+14  134180             4671985   \n",
      "2018-05-29  266.10  16107543  4.286244e+14  115411             4505039   \n",
      "2018-05-30  264.32  19320209  5.106785e+14  108400             4004967   \n",
      "2018-05-31  267.78  31935892  8.551911e+14  152047            15354442   \n",
      "2018-06-01  266.65  16574717  4.419690e+14  130807             5927689   \n",
      "2018-06-04  264.38  12933824  3.419502e+14   88328             3200230   \n",
      "2018-06-05  263.48  14102731  3.715720e+14  121807             3555671   \n",
      "2018-06-06  267.41  18315171  4.897657e+14  138946             3758104   \n",
      "2018-06-07  270.87  18773700  5.085316e+14  116128             3429321   \n",
      "2018-06-08  270.50  14096549  3.813113e+14   93897             1782413   \n",
      "\n",
      "            %Deliverble  \n",
      "Date                     \n",
      "2015-09-15       0.3026  \n",
      "2015-09-16       0.3812  \n",
      "2015-09-18       0.3064  \n",
      "2015-09-21       0.1741  \n",
      "2015-09-22       0.3144  \n",
      "2015-09-23       0.2697  \n",
      "2015-09-24       0.2603  \n",
      "2015-09-28       0.2126  \n",
      "2015-09-29       0.2207  \n",
      "2015-09-30       0.3454  \n",
      "2015-10-01       0.2900  \n",
      "2015-10-05       0.5548  \n",
      "2015-10-06       0.2868  \n",
      "2015-10-07       0.2462  \n",
      "2015-10-08       0.2539  \n",
      "2015-10-09       0.3626  \n",
      "2015-10-12       0.3726  \n",
      "2015-10-13       0.4025  \n",
      "2015-10-14       0.4069  \n",
      "2015-10-15       0.3363  \n",
      "2015-10-16       0.3174  \n",
      "2015-10-19       0.3979  \n",
      "2015-10-20       0.3992  \n",
      "2015-10-21       0.2801  \n",
      "2015-10-23       0.3854  \n",
      "2015-10-26       0.4397  \n",
      "2015-10-27       0.4129  \n",
      "2015-10-28       0.4770  \n",
      "2015-10-29       0.4932  \n",
      "2015-10-30       0.3602  \n",
      "...                 ...  \n",
      "2018-04-27       0.3144  \n",
      "2018-04-30       0.1564  \n",
      "2018-05-02       0.3281  \n",
      "2018-05-03       0.1561  \n",
      "2018-05-04       0.2838  \n",
      "2018-05-07       0.2899  \n",
      "2018-05-08       0.3017  \n",
      "2018-05-09       0.2422  \n",
      "2018-05-10       0.2885  \n",
      "2018-05-11       0.2888  \n",
      "2018-05-14       0.3612  \n",
      "2018-05-15       0.2565  \n",
      "2018-05-16       0.1755  \n",
      "2018-05-17       0.2342  \n",
      "2018-05-18       0.2958  \n",
      "2018-05-21       0.2129  \n",
      "2018-05-22       0.2050  \n",
      "2018-05-23       0.2793  \n",
      "2018-05-24       0.2683  \n",
      "2018-05-25       0.2346  \n",
      "2018-05-28       0.2464  \n",
      "2018-05-29       0.2797  \n",
      "2018-05-30       0.2073  \n",
      "2018-05-31       0.4808  \n",
      "2018-06-01       0.3576  \n",
      "2018-06-04       0.2474  \n",
      "2018-06-05       0.2521  \n",
      "2018-06-06       0.2052  \n",
      "2018-06-07       0.1827  \n",
      "2018-06-08       0.1264  \n",
      "\n",
      "[675 rows x 14 columns]\n"
     ]
    }
   ],
   "source": [
    "print (sbin_data)"
   ]
  },
  {
   "cell_type": "code",
   "execution_count": 3,
   "metadata": {
    "collapsed": true
   },
   "outputs": [],
   "source": [
    "from talib import MACD,CCI,MOM,ROC,STOCH,WILLR,BBANDS,MA,EMA,ATR"
   ]
  },
  {
   "cell_type": "code",
   "execution_count": 4,
   "metadata": {
    "collapsed": true
   },
   "outputs": [],
   "source": [
    "import numpy as np\n",
    "close = sbin_data['Close']\n",
    "open_ = sbin_data['Open']\n",
    "high = sbin_data['High']\n",
    "low = sbin_data['Low']\n",
    "vwap = sbin_data['VWAP']\n",
    "volume = sbin_data['Volume']\n",
    "turnover = sbin_data['Turnover']\n",
    "deliverable_volume = sbin_data['Deliverable Volume']\n",
    "deliverable = sbin_data['%Deliverble']\n",
    "\n",
    "\n",
    "upperband, middleband, lowerband = BBANDS(close, timeperiod=5, nbdevup=2, nbdevdn=2, matype=0)\n",
    "ma = MA(close,timeperiod=10,matype=1)\n",
    "ema =EMA(close,timeperiod=20)\n",
    "macd, macdsignal, macdhist = MACD(close, fastperiod=12, slowperiod=26, signalperiod=9)\n",
    "cci = CCI(high, low, close, timeperiod=14)\n",
    "mom = MOM(close, timeperiod=10)\n",
    "willr = WILLR(high, low, close, timeperiod=14)\n",
    "\n",
    "\n",
    "\n"
   ]
  },
  {
   "cell_type": "code",
   "execution_count": 10,
   "metadata": {},
   "outputs": [
    {
     "ename": "NameError",
     "evalue": "name 'python' is not defined",
     "output_type": "error",
     "traceback": [
      "\u001b[0;31m---------------------------------------------------------------------------\u001b[0m",
      "\u001b[0;31mNameError\u001b[0m                                 Traceback (most recent call last)",
      "\u001b[0;32m<ipython-input-10-bd87884bcbe6>\u001b[0m in \u001b[0;36m<module>\u001b[0;34m()\u001b[0m\n\u001b[0;32m----> 1\u001b[0;31m \u001b[0mprint\u001b[0m \u001b[0;34m(\u001b[0m\u001b[0mpython\u001b[0m\u001b[0;34m.\u001b[0m\u001b[0m__version__\u001b[0m\u001b[0;34m)\u001b[0m\u001b[0;34m\u001b[0m\u001b[0m\n\u001b[0m",
      "\u001b[0;31mNameError\u001b[0m: name 'python' is not defined"
     ]
    }
   ],
   "source": [
    "print (python.__version__)"
   ]
  },
  {
   "cell_type": "code",
   "execution_count": 5,
   "metadata": {
    "collapsed": true
   },
   "outputs": [],
   "source": [
    "train =int(len(close)*0.8)\n",
    "\n",
    "test = len(close)-train\n",
    "\n",
    "\n",
    "Y_train=[]\n",
    "fetaures=[]\n",
    "fetaures.append(close)\n",
    "fetaures.append(open_)\n",
    "fetaures.append(high)\n",
    "fetaures.append(low)\n",
    "fetaures.append(vwap)\n",
    "fetaures.append(volume)\n",
    "fetaures.append(turnover)\n",
    "fetaures.append(deliverable)\n",
    "fetaures.append(deliverable_volume)\n",
    "fetaures.append(upperband)\n",
    "fetaures.append(middleband)\n",
    "fetaures.append(lowerband)\n",
    "fetaures.append(ma)\n",
    "fetaures.append(ema)\n",
    "fetaures.append(macd)\n",
    "fetaures.append(macdhist)\n",
    "fetaures.append(macdsignal)\n",
    "fetaures.append(cci)\n",
    "fetaures.append(mom)\n",
    "fetaures.append(willr)\n",
    "features=np.asarray(fetaures)\n",
    "features=np.transpose(features)\n",
    "    "
   ]
  },
  {
   "cell_type": "code",
   "execution_count": 13,
   "metadata": {},
   "outputs": [
    {
     "name": "stdout",
     "output_type": "stream",
     "text": [
      "3.5.2+ (default, Sep 22 2016, 12:18:14) \n",
      "[GCC 6.2.0 20160927]\n",
      "[2.34000000e+02 2.35200000e+02 2.38450000e+02 2.32650000e+02\n",
      " 2.35230000e+02 1.31934100e+07 3.10344787e+14 3.02600000e-01\n",
      " 3.99245000e+06            nan            nan            nan\n",
      "            nan            nan            nan            nan\n",
      "            nan            nan            nan            nan]\n"
     ]
    }
   ],
   "source": [
    "import sys\n",
    "print (sys.version)\n",
    "print(features[0])\n",
    "#normalise \n",
    "np.save(\"feat.npy\",features)\n",
    "from sklearn.preprocessing import MinMaxScaler\n",
    "scaler = MinMaxScaler(feature_range=(0, 1))\n",
    "# #Max = np.amax(features)\n",
    "# #Min = np.amin(features)\n",
    "# #features = (features - Min)/(Max-Min)\n",
    "features= scaler.fit_transform(features)\n"
   ]
  },
  {
   "cell_type": "raw",
   "metadata": {},
   "source": [
    "train_features = features[36:train,:]\n",
    "test_features = features[train:,:]\n",
    "Y_train = close[36:train]\n",
    "Y_test = close[train:]"
   ]
  },
  {
   "cell_type": "code",
   "execution_count": 10,
   "metadata": {},
   "outputs": [
    {
     "name": "stdout",
     "output_type": "stream",
     "text": [
      "[nan nan nan nan nan nan nan nan nan nan nan nan nan nan nan nan nan nan\n",
      " nan nan]\n"
     ]
    }
   ],
   "source": [
    "print (train_features[0])\n"
   ]
  },
  {
   "cell_type": "code",
   "execution_count": 8,
   "metadata": {},
   "outputs": [
    {
     "name": "stdout",
     "output_type": "stream",
     "text": [
      "/usr/lib/python3/dist-packages\n"
     ]
    }
   ],
   "source": [
    "import sys\n",
    "sys.path.append('/home/yash_jain/anaconda/envs/finance/lib/python3.6/site-packages')\n",
    "from distutils.sysconfig import get_python_lib\n",
    "print(get_python_lib())\n"
   ]
  },
  {
   "cell_type": "markdown",
   "metadata": {},
   "source": [
    "#model ls"
   ]
  },
  {
   "cell_type": "code",
   "execution_count": null,
   "metadata": {
    "collapsed": true
   },
   "outputs": [],
   "source": [
    "#model Lstm\n",
    "def train_lstm(x, y):\n",
    "    batch_size = 20\n",
    "    nb_classes = 9\n",
    "    nb_epoch = 20\n",
    "    ts = x[0].shape[0]\n",
    "    model = Sequential()\n",
    "    model.add(LSTM(512, return_sequences=True, input_shape=(69, 34)))\n",
    "    model.add(Activation('relu'))\n",
    "  # model.add(LSTM(512, return_sequences=True))\n",
    "  # model.add(Activation('tanh'))\n",
    "    model.add(LSTM(256, return_sequences=False))\n",
    "    model.add(Activation('relu'))\n",
    "    model.add(Dense(100))\n",
    "    model.add(Activation('relu'))\n",
    "    model.add(Dense(1))\n",
    "\n",
    "    model.summary()\n",
    "\n",
    "    model.compile(loss='mse', optimizer='rmsprop',metrics=['accuracy'])\n",
    "\n",
    "\n",
    "\n",
    "  # for epoch in xrange(nb_epoch):\n",
    "    model.fit(x, y,validation_split=0.05, batch_size=batch_size, epochs=nb_epoch,\n",
    "                       verbose=2)\n",
    "\n",
    "    return model\n"
   ]
  }
 ],
 "metadata": {
  "kernelspec": {
   "display_name": "Python 3",
   "language": "python",
   "name": "python3"
  },
  "language_info": {
   "codemirror_mode": {
    "name": "ipython",
    "version": 3
   },
   "file_extension": ".py",
   "mimetype": "text/x-python",
   "name": "python",
   "nbconvert_exporter": "python",
   "pygments_lexer": "ipython3",
   "version": "3.6.3"
  }
 },
 "nbformat": 4,
 "nbformat_minor": 2
}
